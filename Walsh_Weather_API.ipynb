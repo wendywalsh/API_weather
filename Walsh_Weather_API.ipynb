{
 "cells": [
  {
   "cell_type": "markdown",
   "metadata": {},
   "source": [
    "#### Unit 6 | Assignment-WeatherPy\n",
    "######            What's the weather like as we approach the equator?\n",
    "\n",
    "\n",
    "In this example, you'll be creating a Python script to visualize the weather of 500+ cities across the world of varying distance from the equator. To accomplish this, you'll be utilizing a [simple Python library](https://pypi.python.org/pypi/citipy), the [OpenWeatherMap API](https://openweathermap.org/api), and a little common sense to create a representative model of weather across world cities.\n",
    "\n",
    "Your objective is to build a series of scatter plots to showcase the following relationships:\n",
    "* Temperature(F) vs. Latitude * Humidity(%) vs. Latitud  * Cloudiness(%) vs. Latitude * Wind Speed(mph) vs. Latitude\n",
    "\n",
    "Your final notebook must:\n",
    "* Randomly select **at least** 500 unique (non-repeat) cities based on latitude and longitude.\n",
    "* Perform a weather check on each of the cities using a series of successive API calls.\n",
    "* Include a print log of each city as it's being processed with the city number, city name, and requested URL.\n",
    "* Save both a CSV of all data retrieved and png images for each scatter plot.\n",
    "\n",
    "As final considerations:\n",
    "\n",
    "* You must use Matplotlib to create your plots.\n",
    "* You must include a written description of three observable trends based on the data.\n",
    "* You must use proper labeling of your plots, including aspects like: Plot Titles (with date of analysis) and Axes Labels.\n",
    "* You must include an exported markdown version of your Notebook called  `README.md` in your GitHub repository.\n",
    "* See [Example Solution](WeatherPy_Example.pdf) for a reference on expected format.\n",
    "\n",
    "#### Hints and Considerations\n",
    "\n",
    "* You may want to start this assignment by refreshing yourself on the [geographic coordinate system](http://desktop.arcgis.com/en/arcmap/10.3/guide-books/map-projections/about-geographic-coordinate-systems.htm).\n",
    "\n",
    "* Next, spend the requisite time necessary to study the OpenWeatherMap API. Based on your initial study, you should be able to answer  basic questions about the API: Where do you request the API key? Which Weather API in particular will you need? What URL endpoints does it expect? What JSON structure does it respond with? Before you write a line of code, you should be aiming to have a crystal clear understanding of your intended outcome.\n",
    "\n",
    "* Though we've never worked with the [citipy Python library](https://pypi.python.org/pypi/citipy), push yourself to decipher how it works, and why it might be relevant. Before you try to incorporate the library into your analysis, start by creating simple test cases outside your main script to confirm that you are using it correctly. Too often, when introduced to a new library, students get bogged down by the most minor of errors -- spending hours investigating their entire code -- when, in fact, a simple and focused test would have shown their basic utilization of the library was wrong from the start. Don't let this be you!\n",
    "\n",
    "* Part of our expectation in this challenge is that you will use critical thinking skills to understand how and why we're recommending the tools we are. What is Citipy for? Why would you use it in conjunction with the OpenWeatherMap API? How would you do so?\n",
    "\n",
    "* In building your script, pay attention to the cities you are using in your query pool. Are you getting coverage of the full gamut of latitudes and longitudes? Or are you simply choosing 500 cities concentrated in one region of the world? Even if you were a geographic genius, simply rattling 500 cities based on your human selection would create a biased dataset. Be thinking of how you should counter this. (Hint: Consider the full range of latitudes).\n",
    "\n",
    "* Lastly, remember -- this is a challenging activity. Push yourself! If you complete this task, then you can safely say that you've gained a strong mastery of the core foundations of data analytics and it will only go better from here. Good luck!"
   ]
  },
  {
   "cell_type": "markdown",
   "metadata": {},
   "source": [
    "# Walsh Weather\n",
    "### Observations:\n",
    "1.\n",
    "\n",
    "2.\n",
    "\n",
    "3.\n"
   ]
  },
  {
   "cell_type": "code",
   "execution_count": 10,
   "metadata": {
    "collapsed": true
   },
   "outputs": [],
   "source": [
    "#Import dependencies\n",
    "import numpy as np\n",
    "import pandas as pd\n",
    "import matplotlib.pyplot as plt\n",
    "import requests\n",
    "import json\n",
    "import openweathermapy.core as owm\n",
    "from citipy import citipy"
   ]
  },
  {
   "cell_type": "code",
   "execution_count": 13,
   "metadata": {},
   "outputs": [
    {
     "data": {
      "text/html": [
       "<div>\n",
       "<style>\n",
       "    .dataframe thead tr:only-child th {\n",
       "        text-align: right;\n",
       "    }\n",
       "\n",
       "    .dataframe thead th {\n",
       "        text-align: left;\n",
       "    }\n",
       "\n",
       "    .dataframe tbody tr th {\n",
       "        vertical-align: top;\n",
       "    }\n",
       "</style>\n",
       "<table border=\"1\" class=\"dataframe\">\n",
       "  <thead>\n",
       "    <tr style=\"text-align: right;\">\n",
       "      <th></th>\n",
       "      <th>name</th>\n",
       "      <th>id</th>\n",
       "      <th>country</th>\n",
       "      <th>coord</th>\n",
       "    </tr>\n",
       "  </thead>\n",
       "  <tbody>\n",
       "    <tr>\n",
       "      <th>0</th>\n",
       "      <td>Hurzuf</td>\n",
       "      <td>707860</td>\n",
       "      <td>UA</td>\n",
       "      <td>{'lon': 34.283333, 'lat': 44.549999}</td>\n",
       "    </tr>\n",
       "    <tr>\n",
       "      <th>1</th>\n",
       "      <td>Novinki</td>\n",
       "      <td>519188</td>\n",
       "      <td>RU</td>\n",
       "      <td>{'lon': 37.666668, 'lat': 55.683334}</td>\n",
       "    </tr>\n",
       "    <tr>\n",
       "      <th>2</th>\n",
       "      <td>Gorkhā</td>\n",
       "      <td>1283378</td>\n",
       "      <td>NP</td>\n",
       "      <td>{'lon': 84.633331, 'lat': 28}</td>\n",
       "    </tr>\n",
       "    <tr>\n",
       "      <th>3</th>\n",
       "      <td>State of Haryāna</td>\n",
       "      <td>1270260</td>\n",
       "      <td>IN</td>\n",
       "      <td>{'lon': 76, 'lat': 29}</td>\n",
       "    </tr>\n",
       "    <tr>\n",
       "      <th>4</th>\n",
       "      <td>Holubynka</td>\n",
       "      <td>708546</td>\n",
       "      <td>UA</td>\n",
       "      <td>{'lon': 33.900002, 'lat': 44.599998}</td>\n",
       "    </tr>\n",
       "  </tbody>\n",
       "</table>\n",
       "</div>"
      ],
      "text/plain": [
       "               name       id country                                 coord\n",
       "0            Hurzuf   707860      UA  {'lon': 34.283333, 'lat': 44.549999}\n",
       "1           Novinki   519188      RU  {'lon': 37.666668, 'lat': 55.683334}\n",
       "2            Gorkhā  1283378      NP         {'lon': 84.633331, 'lat': 28}\n",
       "3  State of Haryāna  1270260      IN                {'lon': 76, 'lat': 29}\n",
       "4         Holubynka   708546      UA  {'lon': 33.900002, 'lat': 44.599998}"
      ]
     },
     "execution_count": 13,
     "metadata": {},
     "output_type": "execute_result"
    }
   ],
   "source": [
    "#Selecting cities from complete list of cities available from openweathermaps  http://bulk.openweathermap.org/sample/\n",
    "raw_data =pd.read_json(\"city_list.json\")\n",
    "raw_city_list= raw_data[[\"name\",'id',\"country\", \"coord\"]]\n",
    "raw_city_list.head()\n",
    "#new = raw_city_list[\"coord\"]\n",
    "\n",
    "\n"
   ]
  },
  {
   "cell_type": "code",
   "execution_count": 11,
   "metadata": {},
   "outputs": [
    {
     "data": {
      "text/plain": [
       "[6542307,\n",
       " 6357645,\n",
       " 3080226,\n",
       " 2524800,\n",
       " 1327865,\n",
       " 5799571,\n",
       " 6555470,\n",
       " 618800,\n",
       " 2360075,\n",
       " 6358031]"
      ]
     },
     "execution_count": 11,
     "metadata": {},
     "output_type": "execute_result"
    }
   ],
   "source": [
    "#pull 7 sets of 100 randomly chosen cities to create list of at least 600 cities with lat and long without duplicates.\n",
    "sample_list= raw_city_list[\"id\"].sample(10).tolist()\n",
    "sample_list\n",
    "#create data frame of 600 randomly selected cities.\n",
    "#Add columns for Max Temp, Humidity, Cloudiness, and max wind speed\n"
   ]
  },
  {
   "cell_type": "code",
   "execution_count": 36,
   "metadata": {
    "collapsed": true
   },
   "outputs": [],
   "source": [
    "# Get and store target url for each city in list by city name\n",
    "base_url= \"http://api.openweathermap.org/data/2.5/weather\"\n",
    "api_key = \"d4c7fc687a3ecaf9670515da999f1a2b\"\n",
    "units =\"imperial\"\n",
    "\n",
    "#Testing\n",
    "#target_url = base_url + \"?appid=\" + api_key + \"&units=\"+ units +\"&id=\" + \"708546\"\n",
    "#response = requests.get(target_url).json()\n",
    "#response\n"
   ]
  },
  {
   "cell_type": "code",
   "execution_count": 37,
   "metadata": {},
   "outputs": [],
   "source": [
    "#weather_df = pd.DataFrame(columns = [\"Name\",\"Max Temp\", \"Humidity\",\"Cloudiness\",\"Wind Speed\"])\n",
    "#weather_df"
   ]
  },
  {
   "cell_type": "code",
   "execution_count": 38,
   "metadata": {},
   "outputs": [
    {
     "name": "stdout",
     "output_type": "stream",
     "text": [
      "Processing Record 0 of Set 1\n",
      "http://api.openweathermap.org/data/2.5/weather?appid=d4c7fc687a3ecaf9670515da999f1a2b&units=imperial&id=2517976\n",
      "Processing Record 1 of Set 1\n",
      "http://api.openweathermap.org/data/2.5/weather?appid=d4c7fc687a3ecaf9670515da999f1a2b&units=imperial&id=3089781\n",
      "Processing Record 2 of Set 1\n",
      "http://api.openweathermap.org/data/2.5/weather?appid=d4c7fc687a3ecaf9670515da999f1a2b&units=imperial&id=6552469\n",
      "Processing Record 3 of Set 1\n",
      "http://api.openweathermap.org/data/2.5/weather?appid=d4c7fc687a3ecaf9670515da999f1a2b&units=imperial&id=534195\n",
      "Processing Record 4 of Set 1\n",
      "http://api.openweathermap.org/data/2.5/weather?appid=d4c7fc687a3ecaf9670515da999f1a2b&units=imperial&id=2265900\n",
      "Processing Record 5 of Set 1\n",
      "http://api.openweathermap.org/data/2.5/weather?appid=d4c7fc687a3ecaf9670515da999f1a2b&units=imperial&id=7871701\n",
      "Processing Record 6 of Set 1\n",
      "http://api.openweathermap.org/data/2.5/weather?appid=d4c7fc687a3ecaf9670515da999f1a2b&units=imperial&id=8012370\n",
      "Processing Record 7 of Set 1\n",
      "http://api.openweathermap.org/data/2.5/weather?appid=d4c7fc687a3ecaf9670515da999f1a2b&units=imperial&id=1707943\n",
      "Processing Record 8 of Set 1\n",
      "http://api.openweathermap.org/data/2.5/weather?appid=d4c7fc687a3ecaf9670515da999f1a2b&units=imperial&id=3003663\n",
      "Processing Record 9 of Set 1\n",
      "http://api.openweathermap.org/data/2.5/weather?appid=d4c7fc687a3ecaf9670515da999f1a2b&units=imperial&id=6063964\n"
     ]
    },
    {
     "data": {
      "text/html": [
       "<div>\n",
       "<style>\n",
       "    .dataframe thead tr:only-child th {\n",
       "        text-align: right;\n",
       "    }\n",
       "\n",
       "    .dataframe thead th {\n",
       "        text-align: left;\n",
       "    }\n",
       "\n",
       "    .dataframe tbody tr th {\n",
       "        vertical-align: top;\n",
       "    }\n",
       "</style>\n",
       "<table border=\"1\" class=\"dataframe\">\n",
       "  <thead>\n",
       "    <tr style=\"text-align: right;\">\n",
       "      <th></th>\n",
       "      <th>Name</th>\n",
       "      <th>Max Temp</th>\n",
       "      <th>Humidity</th>\n",
       "      <th>Cloudiness</th>\n",
       "      <th>Wind Speed</th>\n",
       "    </tr>\n",
       "  </thead>\n",
       "  <tbody>\n",
       "    <tr>\n",
       "      <th>0</th>\n",
       "      <td>Era-Alta</td>\n",
       "      <td>60.80</td>\n",
       "      <td>41</td>\n",
       "      <td>0</td>\n",
       "      <td>13.87</td>\n",
       "    </tr>\n",
       "    <tr>\n",
       "      <th>1</th>\n",
       "      <td>Ostreznica</td>\n",
       "      <td>41.00</td>\n",
       "      <td>93</td>\n",
       "      <td>75</td>\n",
       "      <td>5.82</td>\n",
       "    </tr>\n",
       "    <tr>\n",
       "      <th>2</th>\n",
       "      <td>Adenstedt</td>\n",
       "      <td>39.20</td>\n",
       "      <td>93</td>\n",
       "      <td>90</td>\n",
       "      <td>9.17</td>\n",
       "    </tr>\n",
       "    <tr>\n",
       "      <th>3</th>\n",
       "      <td>Lopatino</td>\n",
       "      <td>33.80</td>\n",
       "      <td>96</td>\n",
       "      <td>0</td>\n",
       "      <td>2.24</td>\n",
       "    </tr>\n",
       "    <tr>\n",
       "      <th>4</th>\n",
       "      <td>Montelavar</td>\n",
       "      <td>59.00</td>\n",
       "      <td>87</td>\n",
       "      <td>20</td>\n",
       "      <td>12.75</td>\n",
       "    </tr>\n",
       "    <tr>\n",
       "      <th>5</th>\n",
       "      <td>Weistrach</td>\n",
       "      <td>39.20</td>\n",
       "      <td>80</td>\n",
       "      <td>75</td>\n",
       "      <td>16.11</td>\n",
       "    </tr>\n",
       "    <tr>\n",
       "      <th>6</th>\n",
       "      <td>Monte Real</td>\n",
       "      <td>51.80</td>\n",
       "      <td>93</td>\n",
       "      <td>75</td>\n",
       "      <td>2.24</td>\n",
       "    </tr>\n",
       "    <tr>\n",
       "      <th>7</th>\n",
       "      <td>Lala</td>\n",
       "      <td>80.46</td>\n",
       "      <td>100</td>\n",
       "      <td>44</td>\n",
       "      <td>0.13</td>\n",
       "    </tr>\n",
       "    <tr>\n",
       "      <th>8</th>\n",
       "      <td>Le Lorey</td>\n",
       "      <td>46.40</td>\n",
       "      <td>65</td>\n",
       "      <td>75</td>\n",
       "      <td>12.77</td>\n",
       "    </tr>\n",
       "    <tr>\n",
       "      <th>9</th>\n",
       "      <td>Madison</td>\n",
       "      <td>12.20</td>\n",
       "      <td>92</td>\n",
       "      <td>40</td>\n",
       "      <td>9.17</td>\n",
       "    </tr>\n",
       "  </tbody>\n",
       "</table>\n",
       "</div>"
      ],
      "text/plain": [
       "         Name  Max Temp Humidity Cloudiness  Wind Speed\n",
       "0    Era-Alta     60.80       41          0       13.87\n",
       "1  Ostreznica     41.00       93         75        5.82\n",
       "2   Adenstedt     39.20       93         90        9.17\n",
       "3    Lopatino     33.80       96          0        2.24\n",
       "4  Montelavar     59.00       87         20       12.75\n",
       "5   Weistrach     39.20       80         75       16.11\n",
       "6  Monte Real     51.80       93         75        2.24\n",
       "7        Lala     80.46      100         44        0.13\n",
       "8    Le Lorey     46.40       65         75       12.77\n",
       "9     Madison     12.20       92         40        9.17"
      ]
     },
     "execution_count": 38,
     "metadata": {},
     "output_type": "execute_result"
    }
   ],
   "source": [
    "#create loop to hold target url with counter\n",
    "\n",
    "count= 0\n",
    "weather_df = pd.DataFrame(columns = [\"Name\",\"Max Temp\", \"Humidity\",\"Cloudiness\",\"Wind Speed\"])\n",
    "for x in sample_list:\n",
    "    print(f\"Processing Record {count} of Set 1\")\n",
    "    target_url = base_url + \"?appid=\" + api_key + \"&units=\"+ units +\"&id=\" + str(x)\n",
    "    response = requests.get(target_url).json()\n",
    "    name= response[\"name\"]\n",
    "    temp = response[\"main\"][\"temp_max\"]\n",
    "    clouds = response[\"clouds\"][\"all\"]\n",
    "    humidity = response[\"main\"][\"humidity\"]\n",
    "    wind = response[\"wind\"][\"speed\"]\n",
    "    weather_df =weather_df.append({\"Name\":name,\"Max Temp\":temp, \"Humidity\":humidity,\"Cloudiness\":clouds,\"Wind Speed\":wind}, ignore_index=True)\n",
    "    count +=1\n",
    "\n",
    "    print(target_url)\n",
    "    \n",
    "weather_df    "
   ]
  },
  {
   "cell_type": "code",
   "execution_count": null,
   "metadata": {
    "collapsed": true
   },
   "outputs": [],
   "source": [
    "#Creating cities by setting rectangle groupings\n",
    "\n",
    "#api_key = \"d4c7fc687a3ecaf9670515da999f1a2b\"\n",
    "#base_url= \"http://api.openweathermap.org/data/2.5/box/city?bbox=-180,-90,180,90\"\n",
    "#units =\"imperial\"\n",
    "\n",
    "\n",
    "#query_url = base_url + \"&appid=\" + api_key + \"&units=\"+ units\n",
    "#response = requests.get(query_url).json()\n",
    "#response\n",
    "#response_df = pd.DataFrame(response)\n"
   ]
  },
  {
   "cell_type": "code",
   "execution_count": null,
   "metadata": {
    "collapsed": true
   },
   "outputs": [],
   "source": []
  },
  {
   "cell_type": "code",
   "execution_count": null,
   "metadata": {
    "collapsed": true
   },
   "outputs": [],
   "source": []
  },
  {
   "cell_type": "code",
   "execution_count": null,
   "metadata": {
    "collapsed": true
   },
   "outputs": [],
   "source": []
  }
 ],
 "metadata": {
  "kernelspec": {
   "display_name": "Python 3",
   "language": "python",
   "name": "python3"
  },
  "language_info": {
   "codemirror_mode": {
    "name": "ipython",
    "version": 3
   },
   "file_extension": ".py",
   "mimetype": "text/x-python",
   "name": "python",
   "nbconvert_exporter": "python",
   "pygments_lexer": "ipython3",
   "version": "3.6.2"
  }
 },
 "nbformat": 4,
 "nbformat_minor": 2
}
